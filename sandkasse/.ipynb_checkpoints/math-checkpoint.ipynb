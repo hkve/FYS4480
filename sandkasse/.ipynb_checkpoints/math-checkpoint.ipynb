{
 "cells": [
  {
   "cell_type": "code",
   "execution_count": 25,
   "metadata": {},
   "outputs": [],
   "source": [
    "import sympy as sp\n",
    "import warnings\n",
    "import matplotlib.cbook\n",
    "warnings.filterwarnings(\"ignore\",category=matplotlib.cbook.mplDeprecation)\n",
    "sp.init_printing()"
   ]
  },
  {
   "cell_type": "code",
   "execution_count": 26,
   "metadata": {},
   "outputs": [],
   "source": [
    "g, d = sp.symbols(\"g,d\")"
   ]
  },
  {
   "cell_type": "code",
   "execution_count": 27,
   "metadata": {},
   "outputs": [],
   "source": [
    "H = sp.Matrix([\n",
    "    [2*d-g, -g],\n",
    "    [-g, 4*d-g]\n",
    "])"
   ]
  },
  {
   "cell_type": "code",
   "execution_count": 28,
   "metadata": {},
   "outputs": [
    {
     "data": {
      "image/png": "[encoded data removed]",
      "text/latex": [
       "$\\displaystyle \\left\\{ 3 d - g - \\sqrt{d^{2} + g^{2}} : 1, \\  3 d - g + \\sqrt{d^{2} + g^{2}} : 1\\right\\}$"
      ],
      "text/plain": [
       "⎧             _________                  _________   ⎫\n",
       "⎨            ╱  2    2                  ╱  2    2    ⎬\n",
       "⎩3⋅d - g - ╲╱  d  + g  : 1, 3⋅d - g + ╲╱  d  + g  : 1⎭"
      ]
     },
     "execution_count": 28,
     "metadata": {},
     "output_type": "execute_result"
    }
   ],
   "source": [
    "vals = H.eigenvals()\n",
    "vals"
   ]
  },
  {
   "cell_type": "code",
   "execution_count": 40,
   "metadata": {},
   "outputs": [
    {
     "data": {
      "image/png": "[encoded data removed]",
      "text/latex": [
       "$\\displaystyle 3 d - g - \\sqrt{d^{2} + g^{2}}$"
      ],
      "text/plain": [
       "             _________\n",
       "            ╱  2    2 \n",
       "3⋅d - g - ╲╱  d  + g  "
      ]
     },
     "metadata": {},
     "output_type": "display_data"
    },
    {
     "data": {
      "text/latex": [
       "$\\displaystyle \\left[\\begin{matrix}\\frac{4 d - g}{g} - \\frac{3 d - g - \\sqrt{d^{2} + g^{2}}}{g}\\\\1\\end{matrix}\\right]$"
      ],
      "text/plain": [
       "⎡                       _________⎤\n",
       "⎢                      ╱  2    2 ⎥\n",
       "⎢4⋅d - g   3⋅d - g - ╲╱  d  + g  ⎥\n",
       "⎢─────── - ──────────────────────⎥\n",
       "⎢   g                g           ⎥\n",
       "⎢                                ⎥\n",
       "⎣               1                ⎦"
      ]
     },
     "metadata": {},
     "output_type": "display_data"
    },
    {
     "name": "stdout",
     "output_type": "stream",
     "text": [
      "------\n"
     ]
    },
    {
     "data": {
      "image/png": "[encoded data removed]",
      "text/latex": [
       "$\\displaystyle 3 d - g + \\sqrt{d^{2} + g^{2}}$"
      ],
      "text/plain": [
       "             _________\n",
       "            ╱  2    2 \n",
       "3⋅d - g + ╲╱  d  + g  "
      ]
     },
     "metadata": {},
     "output_type": "display_data"
    },
    {
     "data": {
      "text/latex": [
       "$\\displaystyle \\left[\\begin{matrix}\\frac{4 d - g}{g} - \\frac{3 d - g + \\sqrt{d^{2} + g^{2}}}{g}\\\\1\\end{matrix}\\right]$"
      ],
      "text/plain": [
       "⎡                       _________⎤\n",
       "⎢                      ╱  2    2 ⎥\n",
       "⎢4⋅d - g   3⋅d - g + ╲╱  d  + g  ⎥\n",
       "⎢─────── - ──────────────────────⎥\n",
       "⎢   g                g           ⎥\n",
       "⎢                                ⎥\n",
       "⎣               1                ⎦"
      ]
     },
     "metadata": {},
     "output_type": "display_data"
    },
    {
     "name": "stdout",
     "output_type": "stream",
     "text": [
      "------\n"
     ]
    }
   ],
   "source": [
    "for elm in H.eigenvects():\n",
    "    val, _, vec = elm\n",
    "    vec, = vec\n",
    "    display(val)\n",
    "    display(vec)\n",
    "    print(\"------\")"
   ]
  },
  {
   "cell_type": "code",
   "execution_count": 52,
   "metadata": {},
   "outputs": [
    {
     "data": {
      "image/png": "[encoded data removed]",
      "text/latex": [
       "$\\displaystyle \\lambda^{2} + \\lambda \\left(- 6 d + 2 g\\right) - g^{2} + \\left(2 d - g\\right) \\left(4 d - g\\right)$"
      ],
      "text/plain": [
       "       2                           2                      \n",
       "\\lambda  + \\lambda⋅(-6⋅d + 2⋅g) - g  + (2⋅d - g)⋅(4⋅d - g)"
      ]
     },
     "execution_count": 52,
     "metadata": {},
     "output_type": "execute_result"
    }
   ],
   "source": [
    "l = sp.symbols(r\"\\lambda\")\n",
    "det = -(6*d-2*g)*l + l**2 + (2*d-g)*(4*d-g) -g**2\n",
    "det"
   ]
  },
  {
   "cell_type": "code",
   "execution_count": 53,
   "metadata": {},
   "outputs": [
    {
     "data": {
      "image/png": "[encoded data removed]",
      "text/latex": [
       "$\\displaystyle 0$"
      ],
      "text/plain": [
       "0"
      ]
     },
     "execution_count": 53,
     "metadata": {},
     "output_type": "execute_result"
    }
   ],
   "source": [
    "res1 = det.subs(l, val)\n",
    "res1 = sp.simplify(res1)\n",
    "res1"
   ]
  },
  {
   "cell_type": "code",
   "execution_count": null,
   "metadata": {},
   "outputs": [],
   "source": []
  }
 ],
 "metadata": {
  "kernelspec": {
   "display_name": "Python 3",
   "language": "python",
   "name": "python3"
  },
  "language_info": {
   "codemirror_mode": {
    "name": "ipython",
    "version": 3
   },
   "file_extension": ".py",
   "mimetype": "text/x-python",
   "name": "python",
   "nbconvert_exporter": "python",
   "pygments_lexer": "ipython3",
   "version": "3.8.10"
  }
 },
 "nbformat": 4,
 "nbformat_minor": 4
}
